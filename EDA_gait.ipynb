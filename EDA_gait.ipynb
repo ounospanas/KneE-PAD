{
 "cells": [
  {
   "cell_type": "code",
   "execution_count": 1,
   "id": "284d1138",
   "metadata": {
    "ExecuteTime": {
     "end_time": "2024-08-24T21:45:29.759021Z",
     "start_time": "2024-08-24T21:45:29.212978Z"
    }
   },
   "outputs": [],
   "source": [
    "import numpy as np\n",
    "import matplotlib.pyplot as plt\n",
    "import seaborn as sns\n",
    "import pandas as pd"
   ]
  },
  {
   "cell_type": "markdown",
   "id": "3a63ac3e",
   "metadata": {},
   "source": [
    "### Load preprocessed data"
   ]
  },
  {
   "cell_type": "code",
   "execution_count": 2,
   "id": "6632cd16",
   "metadata": {
    "ExecuteTime": {
     "end_time": "2024-08-24T21:45:30.312286Z",
     "start_time": "2024-08-24T21:45:29.847216Z"
    }
   },
   "outputs": [],
   "source": [
    "emg = np.load('emg_all.npy')\n",
    "imu = np.load('imu_all.npy')\n",
    "labels = np.load('labels_all.npy')\n",
    "subjects = np.load('subjects_all.npy')\n",
    "sessions = np.load('sessions_all.npy')"
   ]
  },
  {
   "cell_type": "markdown",
   "id": "ae4890de",
   "metadata": {},
   "source": [
    "# EDA"
   ]
  },
  {
   "cell_type": "code",
   "execution_count": 3,
   "id": "4c800d2f",
   "metadata": {
    "ExecuteTime": {
     "end_time": "2024-08-24T21:45:32.215025Z",
     "start_time": "2024-08-24T21:45:32.054601Z"
    }
   },
   "outputs": [],
   "source": [
    "emg = emg[labels>=6]\n",
    "imu = imu[labels>=6]\n",
    "subjects = subjects[labels>=6]\n",
    "labels = labels[labels>=6]"
   ]
  },
  {
   "cell_type": "code",
   "execution_count": 4,
   "id": "74b39d93",
   "metadata": {
    "ExecuteTime": {
     "end_time": "2024-08-24T21:45:33.040810Z",
     "start_time": "2024-08-24T21:45:32.723813Z"
    }
   },
   "outputs": [],
   "source": [
    "left = [1,  2,  3,  6,  7, 12, 16, 17, 18, 20, 21, 23, 24, 27, 30] #1\n",
    "right = [4,  5,  8,  9, 10, 11, 13, 14, 15, 19, 20, 21, 22, 25, 26, 28, 29, 31] #0"
   ]
  },
  {
   "cell_type": "code",
   "execution_count": 5,
   "id": "7e6ce41c",
   "metadata": {
    "ExecuteTime": {
     "end_time": "2024-08-24T21:45:33.625113Z",
     "start_time": "2024-08-24T21:45:33.617635Z"
    }
   },
   "outputs": [],
   "source": [
    "foot = np.zeros(len(subjects),dtype=int)\n",
    "strong_foot = np.zeros(len(subjects),dtype=int)\n",
    "i_foot = []\n",
    "h_foot = []\n",
    "for i in range(len(subjects)):\n",
    "    if subjects[i] in right:\n",
    "        foot[i] = 0\n",
    "        strong_foot[i] = 4\n",
    "        i_foot.append('right')\n",
    "        h_foot.append('left')\n",
    "    else:\n",
    "        foot[i] = 4\n",
    "        strong_foot[i] = 0\n",
    "        i_foot.append('left')\n",
    "        h_foot.append('right')"
   ]
  },
  {
   "cell_type": "markdown",
   "id": "16eb7efb",
   "metadata": {
    "ExecuteTime": {
     "end_time": "2024-08-21T20:35:30.137262Z",
     "start_time": "2024-08-21T20:35:30.132709Z"
    }
   },
   "source": [
    "### the std of normal gait is much higher than the other two for all IMUs, especially the gastrocnemius"
   ]
  },
  {
   "cell_type": "code",
   "execution_count": 6,
   "id": "4aca43a5",
   "metadata": {
    "ExecuteTime": {
     "end_time": "2024-08-24T21:46:05.641484Z",
     "start_time": "2024-08-24T21:46:05.481208Z"
    }
   },
   "outputs": [
    {
     "data": {
      "image/png": "[encoded data removed]",
      "text/plain": [
       "<Figure size 432x288 with 1 Axes>"
      ]
     },
     "metadata": {
      "needs_background": "light"
     },
     "output_type": "display_data"
    }
   ],
   "source": [
    "stds_i = np.zeros(len(foot))\n",
    "stds_h = np.zeros(len(strong_foot))\n",
    "for i in range(len(foot)):\n",
    "    stds_i[i] = np.std(imu[i,foot[i]*6+18:foot[i]*6+21,:])\n",
    "    \n",
    "df = pd.DataFrame({'std':stds_i,'injured foot':i_foot, \n",
    "                  'activity':labels})\n",
    "df['activity'].replace({6: 'Gait', 7: 'Gait_NF', 8: 'Gait_HA',},inplace=True)\n",
    "\n",
    "g = sns.boxplot(data=df, x=\"activity\",y='std',hue='injured foot',showfliers=True)\n",
    "\n",
    "plt.xlabel('Activity', fontsize=12)\n",
    "plt.ylabel('Gastrocnemius ACC std', fontsize=12)\n",
    "plt.show()\n",
    "\n",
    "g.figure.savefig('walking_std.png',dpi=300)"
   ]
  },
  {
   "cell_type": "markdown",
   "id": "d9b748fa",
   "metadata": {
    "ExecuteTime": {
     "end_time": "2024-08-20T17:05:14.669410Z",
     "start_time": "2024-08-20T17:05:14.663983Z"
    }
   },
   "source": [
    "### Gait_ha for the muscle tibialis anterior is very high"
   ]
  },
  {
   "cell_type": "code",
   "execution_count": 7,
   "id": "1f8f09bb",
   "metadata": {
    "ExecuteTime": {
     "end_time": "2024-08-24T21:46:32.944900Z",
     "start_time": "2024-08-24T21:46:32.771075Z"
    }
   },
   "outputs": [
    {
     "data": {
      "image/png": "[encoded data removed]",
      "text/plain": [
       "<Figure size 432x288 with 1 Axes>"
      ]
     },
     "metadata": {
      "needs_background": "light"
     },
     "output_type": "display_data"
    }
   ],
   "source": [
    "stds_i = np.zeros(len(foot))\n",
    "stds_h = np.zeros(len(strong_foot))\n",
    "for i in range(len(foot)):\n",
    "    stds_i[i] = np.std(emg[i,foot[i]+2,:])\n",
    "    stds_h[i] = np.std(emg[i,strong_foot[i]+2,:])\n",
    "    \n",
    "df = pd.DataFrame({'std':np.concatenate([stds_i,stds_h]),'foot':['injured']*len(foot)+['healthy']*len(strong_foot), \n",
    "                  'activity':np.concatenate([labels,labels])})\n",
    "df['activity'].replace({6: 'Gait', 7: 'Gait_NF', 8: 'Gait_HA',},inplace=True)\n",
    "\n",
    "g = sns.boxplot(data=df, x=\"activity\",y='std',hue='foot',showfliers=True)\n",
    "plt.xlabel('Activity', fontsize=12)\n",
    "plt.ylabel('Tibialis EMG std', fontsize=12)\n",
    "plt.show()\n",
    "\n",
    "g.figure.savefig('walking_ha_emg_tibialis.png',dpi=300)"
   ]
  },
  {
   "cell_type": "markdown",
   "id": "0710bdc3",
   "metadata": {},
   "source": [
    "### Y-axis for the IMU on the gastrocnemius"
   ]
  },
  {
   "cell_type": "code",
   "execution_count": 8,
   "id": "66d488e6",
   "metadata": {
    "ExecuteTime": {
     "end_time": "2024-08-24T21:46:37.204192Z",
     "start_time": "2024-08-24T21:46:37.198087Z"
    }
   },
   "outputs": [],
   "source": [
    "import scipy\n",
    "from scipy.stats import skew, kurtosis"
   ]
  },
  {
   "cell_type": "code",
   "execution_count": 9,
   "id": "e0ce8b54",
   "metadata": {
    "ExecuteTime": {
     "end_time": "2024-08-24T21:46:47.994238Z",
     "start_time": "2024-08-24T21:46:47.296788Z"
    }
   },
   "outputs": [
    {
     "data": {
      "image/png": "[encoded data removed]",
      "text/plain": [
       "<Figure size 432x288 with 1 Axes>"
      ]
     },
     "metadata": {
      "needs_background": "light"
     },
     "output_type": "display_data"
    }
   ],
   "source": [
    "kurt_i = np.zeros(len(foot))\n",
    "kurt_h = np.zeros(len(strong_foot))\n",
    "for i in range(len(foot)):\n",
    "    kurt_i[i] = kurtosis(imu[i,foot[i]*6+13,:])\n",
    "    kurt_h[i] = kurtosis(imu[i,strong_foot[i]*6+13,:])\n",
    "    \n",
    "df = pd.DataFrame({'std':np.concatenate([kurt_i,kurt_h]),'foot':['injured']*len(foot)+['healthy']*len(strong_foot), \n",
    "                  'activity':np.concatenate([labels,labels])})\n",
    "df['activity'].replace({6: 'Gait', 7: 'Gait_NF', 8: 'Gait_HA',},inplace=True)\n",
    "\n",
    "g = sns.boxplot(data=df, x=\"activity\",y='std',hue='foot',showfliers=True)\n",
    "plt.xlabel('Activity', fontsize=12)\n",
    "plt.ylabel('Gastrocnemius Y-axis ACC kurtosis', fontsize=12)\n",
    "plt.show()\n",
    "\n",
    "g.figure.savefig('walking_kurtosis.png',dpi=300)"
   ]
  },
  {
   "cell_type": "code",
   "execution_count": null,
   "id": "5143c46f",
   "metadata": {},
   "outputs": [],
   "source": []
  }
 ],
 "metadata": {
  "kernelspec": {
   "display_name": "Python 3 (ipykernel)",
   "language": "python",
   "name": "python3"
  },
  "language_info": {
   "codemirror_mode": {
    "name": "ipython",
    "version": 3
   },
   "file_extension": ".py",
   "mimetype": "text/x-python",
   "name": "python",
   "nbconvert_exporter": "python",
   "pygments_lexer": "ipython3",
   "version": "3.8.10"
  }
 },
 "nbformat": 4,
 "nbformat_minor": 5
}
