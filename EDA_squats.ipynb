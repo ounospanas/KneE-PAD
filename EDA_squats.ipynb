{
 "cells": [
  {
   "cell_type": "code",
   "execution_count": 1,
   "id": "7684807e",
   "metadata": {
    "ExecuteTime": {
     "end_time": "2024-08-24T21:40:18.714459Z",
     "start_time": "2024-08-24T21:40:18.170374Z"
    }
   },
   "outputs": [],
   "source": [
    "import numpy as np\n",
    "import matplotlib.pyplot as plt\n",
    "import seaborn as sns\n",
    "import pandas as pd"
   ]
  },
  {
   "cell_type": "markdown",
   "id": "80c3b38c",
   "metadata": {},
   "source": [
    "### Load preprocessed data"
   ]
  },
  {
   "cell_type": "code",
   "execution_count": 2,
   "id": "b0f9df2f",
   "metadata": {
    "ExecuteTime": {
     "end_time": "2024-08-24T21:40:19.795890Z",
     "start_time": "2024-08-24T21:40:19.069957Z"
    }
   },
   "outputs": [],
   "source": [
    "emg = np.load('emg_all.npy')\n",
    "imu = np.load('imu_all.npy')\n",
    "labels = np.load('labels_all.npy')\n",
    "subjects = np.load('subjects_all.npy')\n",
    "sessions = np.load('sessions_all.npy')"
   ]
  },
  {
   "cell_type": "markdown",
   "id": "23043030",
   "metadata": {},
   "source": [
    "# EDA"
   ]
  },
  {
   "cell_type": "code",
   "execution_count": 3,
   "id": "8e33cd9b",
   "metadata": {
    "ExecuteTime": {
     "end_time": "2024-08-24T21:40:19.977386Z",
     "start_time": "2024-08-24T21:40:19.827395Z"
    }
   },
   "outputs": [],
   "source": [
    "emg = emg[labels<=2]\n",
    "imu = imu[labels<=2]\n",
    "subjects = subjects[labels<=2]\n",
    "labels = labels[labels<=2]"
   ]
  },
  {
   "cell_type": "code",
   "execution_count": 4,
   "id": "74b39d93",
   "metadata": {
    "ExecuteTime": {
     "end_time": "2024-08-24T21:40:20.430830Z",
     "start_time": "2024-08-24T21:40:20.425378Z"
    }
   },
   "outputs": [],
   "source": [
    "left = [1,  2,  3,  6,  7, 12, 16, 17, 18, 20, 21, 23, 24, 27, 30] #1\n",
    "right = [4,  5,  8,  9, 10, 11, 13, 14, 15, 19, 20, 21, 22, 25, 26, 28, 29, 31] #0"
   ]
  },
  {
   "cell_type": "code",
   "execution_count": 5,
   "id": "7e6ce41c",
   "metadata": {
    "ExecuteTime": {
     "end_time": "2024-08-24T21:40:20.899970Z",
     "start_time": "2024-08-24T21:40:20.891991Z"
    }
   },
   "outputs": [],
   "source": [
    "foot = np.zeros(len(subjects),dtype=int)\n",
    "strong_foot = np.zeros(len(subjects),dtype=int)\n",
    "i_foot = []\n",
    "h_foot = []\n",
    "for i in range(len(subjects)):\n",
    "    if subjects[i] in right:\n",
    "        foot[i] = 0\n",
    "        strong_foot[i] = 4\n",
    "        i_foot.append('right')\n",
    "        h_foot.append('left')\n",
    "    else:\n",
    "        foot[i] = 4\n",
    "        strong_foot[i] = 0\n",
    "        i_foot.append('left')\n",
    "        h_foot.append('right')"
   ]
  },
  {
   "cell_type": "markdown",
   "id": "1cb2981a",
   "metadata": {
    "ExecuteTime": {
     "end_time": "2024-08-21T20:51:25.806030Z",
     "start_time": "2024-08-21T20:51:25.801759Z"
    }
   },
   "source": [
    "### EMG hamstrings high std for squat_fl"
   ]
  },
  {
   "cell_type": "code",
   "execution_count": 6,
   "id": "20992a81",
   "metadata": {
    "ExecuteTime": {
     "end_time": "2024-08-24T21:41:26.117444Z",
     "start_time": "2024-08-24T21:41:25.934214Z"
    }
   },
   "outputs": [
    {
     "data": {
      "image/png": "[encoded data removed]",
      "text/plain": [
       "<Figure size 432x288 with 1 Axes>"
      ]
     },
     "metadata": {
      "needs_background": "light"
     },
     "output_type": "display_data"
    }
   ],
   "source": [
    "stds_i = np.zeros(len(foot))\n",
    "stds_h = np.zeros(len(strong_foot))\n",
    "for i in range(len(foot)):\n",
    "    stds_i[i] = np.std(emg[i,foot[i]+1,:])\n",
    "    stds_h[i] = np.std(emg[i,strong_foot[i]+1,:])\n",
    "    \n",
    "df = pd.DataFrame({'std':np.concatenate([stds_i,stds_h]),'foot':['injured']*len(foot)+['healthy']*len(strong_foot), \n",
    "                  'activity':np.concatenate([labels,labels])})\n",
    "\n",
    "df['activity'].replace({0: 'Squat', 1: 'Squat_WT', 2: 'Squat_FL',},inplace=True)\n",
    "\n",
    "g = sns.boxplot(data=df, x=\"activity\",y='std',hue='foot',showfliers=False)\n",
    "plt.xlabel('Activity', fontsize=12)\n",
    "plt.ylabel('Hamstrings EMG std', fontsize=12)\n",
    "plt.show()\n",
    "\n",
    "g.figure.savefig('squat_fl_emg_std_hamstrings.png',dpi=300)"
   ]
  },
  {
   "cell_type": "markdown",
   "id": "25740559",
   "metadata": {
    "ExecuteTime": {
     "end_time": "2024-08-21T20:52:22.942996Z",
     "start_time": "2024-08-21T20:52:22.938540Z"
    }
   },
   "source": [
    "### EMG rectus femoris high std for squat_wt"
   ]
  },
  {
   "cell_type": "code",
   "execution_count": 7,
   "id": "519465ce",
   "metadata": {
    "ExecuteTime": {
     "end_time": "2024-08-24T21:41:32.219090Z",
     "start_time": "2024-08-24T21:41:32.017692Z"
    }
   },
   "outputs": [
    {
     "data": {
      "image/png": "[encoded data removed]",
      "text/plain": [
       "<Figure size 432x288 with 1 Axes>"
      ]
     },
     "metadata": {
      "needs_background": "light"
     },
     "output_type": "display_data"
    }
   ],
   "source": [
    "stds_i = np.zeros(len(foot))\n",
    "stds_h = np.zeros(len(strong_foot))\n",
    "for i in range(len(foot)):\n",
    "    stds_i[i] = np.std(emg[i,foot[i],:])\n",
    "    stds_h[i] = np.std(emg[i,strong_foot[i],:])\n",
    "    \n",
    "df = pd.DataFrame({'std':np.concatenate([stds_i,stds_h]),'foot':['injured']*len(foot)+['healthy']*len(strong_foot), \n",
    "                  'activity':np.concatenate([labels,labels])})\n",
    "df['activity'].replace({0: 'Squat', 1: 'Squat_WT', 2: 'Squat_FL',},inplace=True)\n",
    "\n",
    "g = sns.boxplot(data=df, x=\"activity\",y='std',hue='foot',showfliers=True)\n",
    "plt.xlabel('Activity', fontsize=12)\n",
    "plt.ylabel('Rectus femoris EMG std', fontsize=12)\n",
    "plt.show()\n",
    "\n",
    "g.figure.savefig('squat_wt_emg_std.png',dpi=300)"
   ]
  },
  {
   "cell_type": "markdown",
   "id": "b8ebfc2d",
   "metadata": {
    "ExecuteTime": {
     "end_time": "2024-08-21T20:54:41.621997Z",
     "start_time": "2024-08-21T20:54:41.617906Z"
    }
   },
   "source": [
    "### Z-axis eucledian distance between the legs for all IMUs"
   ]
  },
  {
   "cell_type": "code",
   "execution_count": 8,
   "id": "84111175",
   "metadata": {
    "ExecuteTime": {
     "end_time": "2024-08-24T21:41:42.101709Z",
     "start_time": "2024-08-24T21:41:41.875010Z"
    }
   },
   "outputs": [
    {
     "data": {
      "image/png": "[encoded data removed]",
      "text/plain": [
       "<Figure size 432x288 with 1 Axes>"
      ]
     },
     "metadata": {
      "needs_background": "light"
     },
     "output_type": "display_data"
    }
   ],
   "source": [
    "dists = []\n",
    "activities = []\n",
    "\n",
    "for i in range(24):\n",
    "\n",
    "    if i in [2,8,14,20]:\n",
    "        sq = np.sqrt(np.sum(np.square(imu[np.where(labels==0)[0],i]-imu[np.where(labels==0)[0],i+24]),1))\n",
    "        sq_emg = np.sqrt(np.sum(np.square(imu[np.where(labels==1)[0],i]-imu[np.where(labels==1)[0],i+24]),1))\n",
    "        sq_fl = np.sqrt(np.sum(np.square(imu[np.where(labels==2)[0],i]-imu[np.where(labels==2)[0],i+24]),1))\n",
    "    else:\n",
    "        continue\n",
    "    \n",
    "    dist = list(np.concatenate([sq,sq_emg,sq_fl]))\n",
    "    activity = list(np.concatenate([labels[labels==0],labels[labels==1],labels[labels==2]]))\n",
    "    \n",
    "    dists = dists+dist\n",
    "    activities = activities+activity\n",
    "    \n",
    "muscles = ['rectus femoris']*len(labels) + ['hamstrings']*len(labels) + ['tibialis ant.']*len(labels) + ['gastrocnemius']*len(labels) \n",
    "\n",
    "\n",
    "df = pd.DataFrame({'dist':dists, 'activity': activities,\n",
    "                       'muscle':muscles})  \n",
    "df['activity'].replace({0: 'Squat', 1: 'Squat_WT', 2: 'Squat_FL',},inplace=True)\n",
    "\n",
    "g=sns.boxplot(x=\"muscle\", y=\"dist\", hue=\"activity\", data=df,showfliers=False)\n",
    "plt.xlabel('Muscle', fontsize=12)\n",
    "plt.ylabel('Euclidean dist. accelerometer Z-axis', fontsize=12)\n",
    "plt.show()\n",
    "\n",
    "g.figure.savefig('squat_eucl_dist_z_axis.png',dpi=300)"
   ]
  },
  {
   "cell_type": "code",
   "execution_count": null,
   "id": "de9f1096",
   "metadata": {},
   "outputs": [],
   "source": []
  }
 ],
 "metadata": {
  "kernelspec": {
   "display_name": "Python 3 (ipykernel)",
   "language": "python",
   "name": "python3"
  },
  "language_info": {
   "codemirror_mode": {
    "name": "ipython",
    "version": 3
   },
   "file_extension": ".py",
   "mimetype": "text/x-python",
   "name": "python",
   "nbconvert_exporter": "python",
   "pygments_lexer": "ipython3",
   "version": "3.8.10"
  }
 },
 "nbformat": 4,
 "nbformat_minor": 5
}
