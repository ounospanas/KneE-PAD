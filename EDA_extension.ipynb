{
 "cells": [
  {
   "cell_type": "code",
   "execution_count": 1,
   "id": "6b2041b2",
   "metadata": {
    "ExecuteTime": {
     "end_time": "2024-08-24T21:37:06.808182Z",
     "start_time": "2024-08-24T21:37:05.406078Z"
    }
   },
   "outputs": [],
   "source": [
    "import numpy as np\n",
    "import matplotlib.pyplot as plt\n",
    "import seaborn as sns\n",
    "import pandas as pd"
   ]
  },
  {
   "cell_type": "markdown",
   "id": "a0282d1c",
   "metadata": {},
   "source": [
    "### Load preprocessed data"
   ]
  },
  {
   "cell_type": "code",
   "execution_count": 2,
   "id": "efd6fd0d",
   "metadata": {
    "ExecuteTime": {
     "end_time": "2024-08-24T21:37:07.377683Z",
     "start_time": "2024-08-24T21:37:06.919840Z"
    }
   },
   "outputs": [],
   "source": [
    "emg = np.load('emg_all.npy')\n",
    "imu = np.load('imu_all.npy')\n",
    "labels = np.load('labels_all.npy')\n",
    "subjects = np.load('subjects_all.npy')\n",
    "sessions = np.load('sessions_all.npy')"
   ]
  },
  {
   "cell_type": "markdown",
   "id": "23043030",
   "metadata": {},
   "source": [
    "# EDA"
   ]
  },
  {
   "cell_type": "code",
   "execution_count": 3,
   "id": "f248632d",
   "metadata": {
    "ExecuteTime": {
     "end_time": "2024-08-24T21:37:09.319495Z",
     "start_time": "2024-08-24T21:37:09.203242Z"
    }
   },
   "outputs": [],
   "source": [
    "emg = emg[(labels<6) & (labels>2)]\n",
    "imu = imu[(labels<6) & (labels>2)]\n",
    "subjects = subjects[(labels<6) & (labels>2)]\n",
    "labels = labels[(labels<6) & (labels>2)]"
   ]
  },
  {
   "cell_type": "code",
   "execution_count": 4,
   "id": "74b39d93",
   "metadata": {
    "ExecuteTime": {
     "end_time": "2024-08-24T21:37:10.504017Z",
     "start_time": "2024-08-24T21:37:10.498026Z"
    }
   },
   "outputs": [],
   "source": [
    "left = [1,  2,  3,  6,  7, 12, 16, 17, 18, 20, 21, 23, 24, 27, 30] #1\n",
    "right = [4,  5,  8,  9, 10, 11, 13, 14, 15, 19, 20, 21, 22, 25, 26, 28, 29, 31] #0"
   ]
  },
  {
   "cell_type": "code",
   "execution_count": 5,
   "id": "7e6ce41c",
   "metadata": {
    "ExecuteTime": {
     "end_time": "2024-08-24T21:37:11.583255Z",
     "start_time": "2024-08-24T21:37:11.576420Z"
    }
   },
   "outputs": [],
   "source": [
    "foot = np.zeros(len(subjects),dtype=int)\n",
    "strong_foot = np.zeros(len(subjects),dtype=int)\n",
    "i_foot = []\n",
    "h_foot = []\n",
    "for i in range(len(subjects)):\n",
    "    if subjects[i] in right:\n",
    "        foot[i] = 0\n",
    "        strong_foot[i] = 4\n",
    "        i_foot.append('right')\n",
    "        h_foot.append('left')\n",
    "    else:\n",
    "        foot[i] = 4\n",
    "        strong_foot[i] = 0\n",
    "        i_foot.append('left')\n",
    "        h_foot.append('right')"
   ]
  },
  {
   "cell_type": "markdown",
   "id": "22c021f9",
   "metadata": {
    "ExecuteTime": {
     "end_time": "2024-08-21T21:26:35.066475Z",
     "start_time": "2024-08-21T21:26:35.061168Z"
    }
   },
   "source": [
    "### std on hamstrings X-axis IMU"
   ]
  },
  {
   "cell_type": "code",
   "execution_count": 6,
   "id": "4aca43a5",
   "metadata": {
    "ExecuteTime": {
     "end_time": "2024-08-24T21:37:43.882731Z",
     "start_time": "2024-08-24T21:37:42.450936Z"
    }
   },
   "outputs": [
    {
     "data": {
      "image/png": "[encoded data removed]",
      "text/plain": [
       "<Figure size 432x288 with 1 Axes>"
      ]
     },
     "metadata": {
      "needs_background": "light"
     },
     "output_type": "display_data"
    }
   ],
   "source": [
    "stds_i = np.zeros(len(foot))\n",
    "stds_h = np.zeros(len(strong_foot))\n",
    "for i in range(len(foot)):\n",
    "    stds_i[i] = np.std(imu[i,foot[i]*6+6,:])\n",
    "    \n",
    "df = pd.DataFrame({'std':stds_i,'injured foot':i_foot, \n",
    "                  'activity':labels})\n",
    "df['activity'].replace({3: 'Extension', 4: 'Extension_NF', 5: 'Extension_LL',},inplace=True)\n",
    "\n",
    "g = sns.boxplot(data=df, x=\"activity\",y='std',hue='injured foot',showfliers=True)\n",
    "\n",
    "plt.xlabel('Activity', fontsize=12)\n",
    "plt.ylabel('Hamstrings X-axis ACC std', fontsize=12)\n",
    "plt.show()\n",
    "\n",
    "g.figure.savefig('extension_X_axis_hamstrings_std.png',dpi=300)"
   ]
  },
  {
   "cell_type": "markdown",
   "id": "8e6158e0",
   "metadata": {},
   "source": [
    "### std on tibialis anterior Y-axis IMU"
   ]
  },
  {
   "cell_type": "code",
   "execution_count": 7,
   "id": "dbc8b0fb",
   "metadata": {
    "ExecuteTime": {
     "end_time": "2024-08-24T21:38:12.117751Z",
     "start_time": "2024-08-24T21:38:12.003579Z"
    }
   },
   "outputs": [
    {
     "data": {
      "image/png": "[encoded data removed]",
      "text/plain": [
       "<Figure size 432x288 with 1 Axes>"
      ]
     },
     "metadata": {
      "needs_background": "light"
     },
     "output_type": "display_data"
    }
   ],
   "source": [
    "maxs_i = np.zeros(len(foot))\n",
    "\n",
    "for i in range(len(foot)):\n",
    "    maxs_i[i] = np.max(imu[i,foot[i]*6+13,:])\n",
    "    \n",
    "df = pd.DataFrame({'max':maxs_i, \n",
    "                  'activity':labels})\n",
    "df['activity'].replace({3: 'Extension', 4: 'Extension_NF', 5: 'Extension_LL',},inplace=True)\n",
    "\n",
    "g = sns.boxplot(data=df, x=\"activity\",y='max',showfliers=True)\n",
    "\n",
    "plt.xlabel('Activity', fontsize=12)\n",
    "plt.ylabel('Tibialis Ant. Y-axis ACC max', fontsize=12)\n",
    "plt.show()\n",
    "\n",
    "g.figure.savefig('extension_Y_axis_tibialis_max.png',dpi=300)"
   ]
  },
  {
   "cell_type": "markdown",
   "id": "82e3f3ff",
   "metadata": {
    "ExecuteTime": {
     "end_time": "2024-08-21T21:35:23.731426Z",
     "start_time": "2024-08-21T21:35:23.726652Z"
    }
   },
   "source": [
    "### EMG activations"
   ]
  },
  {
   "cell_type": "code",
   "execution_count": 8,
   "id": "c88543d6",
   "metadata": {
    "ExecuteTime": {
     "end_time": "2024-08-24T21:38:35.866148Z",
     "start_time": "2024-08-24T21:38:35.629619Z"
    }
   },
   "outputs": [
    {
     "data": {
      "image/png": "[encoded data removed]",
      "text/plain": [
       "<Figure size 432x288 with 1 Axes>"
      ]
     },
     "metadata": {
      "needs_background": "light"
     },
     "output_type": "display_data"
    }
   ],
   "source": [
    "dists = []\n",
    "activities = []\n",
    "\n",
    "for i in range(24):\n",
    "\n",
    "    if i in [0,1,2,3]:\n",
    "        ex = np.sqrt(np.sum(np.square(emg[np.where(labels==3)[0],i]-emg[np.where(labels==3)[0],i+4]),1))\n",
    "        ex_nf = np.sqrt(np.sum(np.square(emg[np.where(labels==4)[0],i]-emg[np.where(labels==4)[0],i+4]),1))\n",
    "        ex_ll = np.sqrt(np.sum(np.square(emg[np.where(labels==5)[0],i]-emg[np.where(labels==5)[0],i+4]),1))\n",
    "    else:\n",
    "        continue\n",
    "    \n",
    "    dist = list(np.concatenate([ex,ex_nf,ex_ll]))\n",
    "    activity = list(np.concatenate([labels[labels==3],labels[labels==4],labels[labels==5]]))\n",
    "    \n",
    "    dists = dists+dist\n",
    "    activities = activities+activity\n",
    "    \n",
    "muscles = ['rectus femoris']*len(labels) + ['hamstrings']*len(labels) + ['tibialis ant.']*len(labels) + ['gastrocnemius']*len(labels) \n",
    "\n",
    "\n",
    "df = pd.DataFrame({'dist':dists, 'activity': activities,\n",
    "                       'muscle':muscles})  \n",
    "df['activity'].replace({3: 'Extension', 4: 'Extension_NF', 5: 'Extension_LL',},inplace=True)\n",
    "\n",
    "g=sns.boxplot(x=\"muscle\", y=\"dist\", hue=\"activity\", data=df,showfliers=False)\n",
    "plt.xlabel('Muscle', fontsize=12)\n",
    "plt.ylabel('Euclidean dist. EMG', fontsize=12)\n",
    "plt.show()\n",
    "\n",
    "g.figure.savefig('extension_eucl_dist_EMG.png',dpi=300)"
   ]
  },
  {
   "cell_type": "code",
   "execution_count": null,
   "id": "13515eca",
   "metadata": {},
   "outputs": [],
   "source": []
  }
 ],
 "metadata": {
  "kernelspec": {
   "display_name": "Python 3 (ipykernel)",
   "language": "python",
   "name": "python3"
  },
  "language_info": {
   "codemirror_mode": {
    "name": "ipython",
    "version": 3
   },
   "file_extension": ".py",
   "mimetype": "text/x-python",
   "name": "python",
   "nbconvert_exporter": "python",
   "pygments_lexer": "ipython3",
   "version": "3.8.10"
  }
 },
 "nbformat": 4,
 "nbformat_minor": 5
}
